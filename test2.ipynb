{
 "cells": [
  {
   "cell_type": "code",
   "execution_count": 1,
   "metadata": {},
   "outputs": [
    {
     "name": "stdout",
     "output_type": "stream",
     "text": [
      "Jupyter environment detected. Enabling Open3D WebVisualizer.\n",
      "[Open3D INFO] WebRTC GUI backend enabled.\n",
      "[Open3D INFO] WebRTCWindowSystem: HTTP handshake server disabled.\n"
     ]
    }
   ],
   "source": [
    "%load_ext autoreload\n",
    "%autoreload 2\n",
    "from dataset import SELMADataset\n",
    "import open3d as o3d\n",
    "import seaborn as sns\n",
    "import copy\n",
    "import json\n",
    "from tqdm import trange\n",
    "from dataset import SELMADataset, get_dataloader\n",
    "import numpy as np\n",
    "\n",
    "data_aug = dict(object_noise=dict(\n",
    "                   num_try=100,\n",
    "                   translation_std=[0.25, 0.25, 0.25],\n",
    "                   rot_range=[-0.15707963267, 0.15707963267]\n",
    "                   ),\n",
    "               random_flip_ratio=0.5,\n",
    "               global_rot_scale_trans=dict(\n",
    "                   rot_range=[-0.78539816, 0.78539816],\n",
    "                   scale_ratio_range=[0.95, 1.05],\n",
    "                   translation_std=[0, 0, 0]\n",
    "                   ), \n",
    "               point_range_filter=[-100.0, -100.0, -1, 100.0, 100.0, 3],\n",
    "               object_range_filter=[-100.0, -100.0, -1, 100.0, 100.0, 3]             \n",
    "           )\n",
    "\n",
    "ds = SELMADataset(root_path=\"../PointPillars/SELMA/CV/dataset/\",\n",
    "             splits_path=\"./dataset/ImageSets\",\n",
    "             split=\"all\",\n",
    "             split_extension=\"txt\",\n",
    "             augment_data=False,\n",
    "            #  flip=args.random_flip,\n",
    "            #  gaussian_blur=args.gaussian_blur,\n",
    "            #  blur_mul=args.blur_mul,\n",
    "            #  gaussian_noise=args.gaussian_noise,\n",
    "            #  noise_mul=args.noise_mul,\n",
    "            #  color_shift=args.color_shift,\n",
    "            #  color_jitter=args.color_jitter,\n",
    "            #  cshift_intensity=args.cshift_intensity,\n",
    "            #  wshift_intensity=args.wshift_intensity,\n",
    "            sensors=['lidar', 'bbox'],\n",
    "            #  weather='clear',\n",
    "            #  time_of_day='sunset',\n",
    "            sensor_positions=['T'],\n",
    "            bbox_location=\"../PointPillars/SELMA/corrected_bbox/\",\n",
    "            n_min=5,\n",
    "            lidar_data_aug_config=data_aug\n",
    "            #  class_set='city19',\n",
    "            #  return_grayscale=args.input_channels==1)\n",
    ")\n",
    "\n",
    "def draw_sample(sample):\n",
    "    pcs = []\n",
    "    mesh_frame = o3d.geometry.TriangleMesh.create_coordinate_frame(\n",
    "                            size=2, origin=[0,0,0])\n",
    "    pcs.append(mesh_frame)\n",
    "\n",
    "    palette = sns.color_palette(\"hsv\", n_colors=3)\n",
    "\n",
    "    pcd = o3d.geometry.PointCloud()\n",
    "    pcd.points = o3d.utility.Vector3dVector(sample['pts'])\n",
    "    pcs.append(pcd)\n",
    "        \n",
    "    for bbox, label in zip(sample['gt_bboxes_3d'], sample['gt_labels']):\n",
    "\n",
    "        \n",
    "        \n",
    "        bb = o3d.geometry.OrientedBoundingBox(np.array([bbox[0],\n",
    "                                                        bbox[1],\n",
    "                                                        bbox[2]]),\n",
    "                                              o3d.geometry.get_rotation_matrix_from_xyz([0.0,0.0,bbox[6]]),\n",
    "                                              np.array([bbox[3],\n",
    "                                                        bbox[4],\n",
    "                                                        bbox[5]]),\n",
    "                                                        )\n",
    "        bb.color = palette[label]\n",
    "        pcs.append(bb)\n",
    "    o3d.visualization.draw_geometries(pcs)"
   ]
  },
  {
   "cell_type": "code",
   "execution_count": 8,
   "metadata": {},
   "outputs": [
    {
     "name": "stdout",
     "output_type": "stream",
     "text": [
      "float32\n",
      "float32\n",
      "float32\n",
      "float32\n",
      "float32\n"
     ]
    }
   ],
   "source": [
    "for i in [0, 5000, 10000, 15000, 20000]:\n",
    "    sample = ds[i]\n",
    "    print(sample[\"gt_bboxes_3d\"].dtype)\n",
    "    draw_sample(sample)\n",
    "    # print(np.min(sample[\"pts\"], axis=0))\n",
    "    # print(np.max(sample[\"pts\"], axis=0))"
   ]
  }
 ],
 "metadata": {
  "kernelspec": {
   "display_name": "pplttm",
   "language": "python",
   "name": "python3"
  },
  "language_info": {
   "codemirror_mode": {
    "name": "ipython",
    "version": 3
   },
   "file_extension": ".py",
   "mimetype": "text/x-python",
   "name": "python",
   "nbconvert_exporter": "python",
   "pygments_lexer": "ipython3",
   "version": "3.10.9"
  },
  "orig_nbformat": 4
 },
 "nbformat": 4,
 "nbformat_minor": 2
}
