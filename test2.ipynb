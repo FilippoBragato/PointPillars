{
 "cells": [
  {
   "cell_type": "code",
   "execution_count": 10,
   "metadata": {},
   "outputs": [
    {
     "name": "stdout",
     "output_type": "stream",
     "text": [
      "The autoreload extension is already loaded. To reload it, use:\n",
      "  %reload_ext autoreload\n"
     ]
    }
   ],
   "source": [
    "%load_ext autoreload\n",
    "%autoreload 2\n",
    "from dataset import SELMADataset\n",
    "import open3d as o3d\n",
    "import seaborn as sns\n",
    "import copy\n",
    "import json\n",
    "from tqdm import trange\n",
    "from dataset import SELMADataset, get_dataloader\n",
    "import numpy as np\n",
    "\n",
    "data_aug = dict(object_noise=dict(\n",
    "                   num_try=100,\n",
    "                   translation_std=[0.25, 0.25, 0.25],\n",
    "                   rot_range=[-0.15707963267, 0.15707963267]\n",
    "                   ),\n",
    "               random_flip_ratio=0.5,\n",
    "               global_rot_scale_trans=dict(\n",
    "                   rot_range=[-0.78539816, 0.78539816],\n",
    "                   scale_ratio_range=[0.95, 1.05],\n",
    "                   translation_std=[0, 0, 0]\n",
    "                   ), \n",
    "               point_range_filter=[-100.0, -100.0, -1, 100.0, 100.0, 3],\n",
    "               object_range_filter=[-100.0, -100.0, -1, 100.0, 100.0, 3]             \n",
    "           )\n",
    "\n",
    "ds = SELMADataset(root_path=\"../PointPillars/SELMA/CV/dataset/\",\n",
    "             splits_path=\"./dataset/ImageSets\",\n",
    "             split=\"all\",\n",
    "             split_extension=\"txt\",\n",
    "             augment_data=True,\n",
    "            #  flip=args.random_flip,\n",
    "            #  gaussian_blur=args.gaussian_blur,\n",
    "            #  blur_mul=args.blur_mul,\n",
    "            #  gaussian_noise=args.gaussian_noise,\n",
    "            #  noise_mul=args.noise_mul,\n",
    "            #  color_shift=args.color_shift,\n",
    "            #  color_jitter=args.color_jitter,\n",
    "            #  cshift_intensity=args.cshift_intensity,\n",
    "            #  wshift_intensity=args.wshift_intensity,\n",
    "            sensors=['lidar', 'bbox'],\n",
    "            #  weather='clear',\n",
    "            #  time_of_day='sunset',\n",
    "            sensor_positions=['T'],\n",
    "            bbox_location=\"../PointPillars/SELMA/corrected_bbox/\",\n",
    "            n_min=5,\n",
    "            lidar_data_aug_config=data_aug\n",
    "            #  class_set='city19',\n",
    "            #  return_grayscale=args.input_channels==1)\n",
    ")\n",
    "\n",
    "def draw_sample(sample):\n",
    "    pcs = []\n",
    "    mesh_frame = o3d.geometry.TriangleMesh.create_coordinate_frame(\n",
    "                            size=2, origin=[0,0,0])\n",
    "    pcs.append(mesh_frame)\n",
    "\n",
    "    palette = sns.color_palette(\"hsv\", n_colors=3)\n",
    "\n",
    "    pcd = o3d.geometry.PointCloud()\n",
    "    pcd.points = o3d.utility.Vector3dVector(sample[0]['pts'])\n",
    "    pcs.append(pcd)\n",
    "        \n",
    "    for bbox, label in zip(sample[0]['gt_bboxes_3d'], sample[0]['gt_labels']):\n",
    "\n",
    "        \n",
    "        \n",
    "        bb = o3d.geometry.OrientedBoundingBox(np.array([bbox[0],\n",
    "                                                        bbox[1],\n",
    "                                                        bbox[2]]),\n",
    "                                              o3d.geometry.get_rotation_matrix_from_xyz([0.0,0.0,bbox[6]]),\n",
    "                                              np.array([bbox[3],\n",
    "                                                        bbox[4],\n",
    "                                                        bbox[5]]),\n",
    "                                                        )\n",
    "        bb.color = palette[label]\n",
    "        pcs.append(bb)\n",
    "    o3d.visualization.draw_geometries(pcs)"
   ]
  },
  {
   "cell_type": "code",
   "execution_count": 17,
   "metadata": {},
   "outputs": [
    {
     "name": "stdout",
     "output_type": "stream",
     "text": [
      "[-51.42418403 -92.43957633  -0.24825332]\n",
      "[72.2942211  98.1960843  19.14382936]\n",
      "[ -95.11623914 -101.25812857   -2.61394742]\n",
      "[94.51749192 96.29707444 19.79001069]\n",
      "[-9.07922513e+01 -1.03729957e+02 -4.73973029e-02]\n",
      "[ 92.95208005 102.39959335  19.17074768]\n",
      "[-88.49464953 -90.78095308  -0.50981589]\n",
      "[41.37200667 71.02386803 14.39039747]\n",
      "[-8.76562542e+01 -9.20629137e+01  8.46576410e-03]\n",
      "[92.07870456 91.10661727 17.78773716]\n"
     ]
    }
   ],
   "source": [
    "for i in [0, 5000, 10000, 15000, 20000]:\n",
    "    sample = ds[i]\n",
    "    draw_sample(sample)\n",
    "    print(np.min(sample[0][\"pts\"], axis=0))\n",
    "    print(np.max(sample[0][\"pts\"], axis=0))"
   ]
  }
 ],
 "metadata": {
  "kernelspec": {
   "display_name": "pplttm",
   "language": "python",
   "name": "python3"
  },
  "language_info": {
   "codemirror_mode": {
    "name": "ipython",
    "version": 3
   },
   "file_extension": ".py",
   "mimetype": "text/x-python",
   "name": "python",
   "nbconvert_exporter": "python",
   "pygments_lexer": "ipython3",
   "version": "3.10.9"
  },
  "orig_nbformat": 4
 },
 "nbformat": 4,
 "nbformat_minor": 2
}
